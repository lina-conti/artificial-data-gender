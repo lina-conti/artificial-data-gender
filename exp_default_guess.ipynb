{
  "cells": [
    {
      "attachments": {},
      "cell_type": "markdown",
      "metadata": {},
      "source": [
        "Experiment to test the impact of training distribution on what the system predicts when it has no clues to determine the gender of a word.\n",
        "\n",
        "Trains 20 models for each of the 5 different distributions and measures the percentage of predictions corresponding to the majority class at train time for words that have only been encountered in an ambiguous context by the models (AUA)."
      ]
    },
    {
      "cell_type": "markdown",
      "metadata": {
        "id": "C-ib2v9sZzI-"
      },
      "source": [
        "## Requirements"
      ]
    },
    {
      "cell_type": "code",
      "execution_count": 69,
      "metadata": {
        "colab": {
          "background_save": true
        },
        "id": "T6qiATtTZ8wT"
      },
      "outputs": [],
      "source": [
        "import json\n",
        "from collections import defaultdict\n",
        "from pcfg import PCFG\n",
        "from sklearn.linear_model import LogisticRegression\n",
        "from sklearn.preprocessing import StandardScaler\n",
        "import pandas as pd\n",
        "import pathlib\n",
        "import tempfile\n",
        "import numpy as np\n",
        "from sklearn.manifold import TSNE\n",
        "from sklearn.metrics import confusion_matrix\n",
        "import seaborn as sns\n",
        "import random\n",
        "from IPython.utils import io\n",
        "import re\n",
        "import os"
      ]
    },
    {
      "cell_type": "code",
      "execution_count": 70,
      "metadata": {},
      "outputs": [],
      "source": [
        "device = 'cuda:1'"
      ]
    },
    {
      "cell_type": "markdown",
      "metadata": {
        "id": "W_A6PHTroMem"
      },
      "source": [
        "## Get vocabulary"
      ]
    },
    {
      "cell_type": "code",
      "execution_count": 71,
      "metadata": {
        "id": "HEYv79yveDco"
      },
      "outputs": [],
      "source": [
        "with open('full_vocabulary.json', 'r') as openfile:\n",
        "    full_vocab = json.load(openfile)"
      ]
    },
    {
      "attachments": {},
      "cell_type": "markdown",
      "metadata": {
        "id": "8htNOy5SpDqE"
      },
      "source": [
        "## Data auxiliary functions"
      ]
    },
    {
      "cell_type": "code",
      "execution_count": 72,
      "metadata": {
        "id": "OtS_fDL9owT2"
      },
      "outputs": [],
      "source": [
        "# Non-terminal productions\n",
        "def generate_NT_rules(prob_fem):\n",
        "    return f\"\"\"\n",
        "S -> NP VP \".\"[1.0]\n",
        "\n",
        "PP -> PREP NP [1.0]\n",
        "VP -> VERB [0.5] | VERB NP [0.5]\n",
        "\n",
        "NP -> NPGend [0.4] | NPAmb [0.4] | NP PP [0.20]\n",
        "\n",
        "NPGend -> DETFem npGendFem [{prob_fem}] | DETMasc npGendMasc [{1-prob_fem}]\n",
        "npGendFem -> NOUNFemGend [0.4] | ADJFem NOUNFemGend [0.3] | NOUNFemGend ADJFem [0.3] \n",
        "npGendMasc -> NOUNMascGend [0.4] | ADJMasc NOUNMascGend [0.3] | NOUNMascGend ADJMasc [0.3] \n",
        "\n",
        "NPAmb -> DETEpic npAmbFem [0.5] | DETEpic npAmbMasc [0.5]\n",
        "npAmbFem -> NOUNFemAmb [0.4] | ADJEpic NOUNFemAmb [0.3] | NOUNFemAmb ADJEpic [0.3] \n",
        "npAmbMasc -> NOUNMascAmb [0.4] | ADJEpic NOUNMascAmb [0.3] | NOUNMascAmb ADJEpic [0.3]\n",
        "\n",
        "NOUNFemAmb -> NOUNFemAG [0.5] | NOUNFemAU [0.5]\n",
        "NOUNMascAmb -> NOUNMascAG [0.5] | NOUNMascAU [0.5]\n",
        "NOUNFemGend -> NOUNFemGG [0.5] | NOUNFemGU [0.5]\n",
        "NOUNMascGend -> NOUNMascGG [0.5] | NOUNMascGU [0.5]\n",
        "\n",
        "\n",
        "\"\"\"\n",
        "# A stands for ambiguous context\n",
        "# G for gendered context\n",
        "# U for unseen (these words will not be seen when training the probe)"
      ]
    },
    {
      "cell_type": "code",
      "execution_count": 73,
      "metadata": {
        "colab": {
          "base_uri": "https://localhost:8080/"
        },
        "id": "DGAiqH4fod_O",
        "outputId": "cb4ff78c-7c9c-4553-98cd-7adcf24c6b4b"
      },
      "outputs": [],
      "source": [
        "# Choose subset of full vocabulary to be used\n",
        "def generate_vocab(full_vocab, prob_fem):\n",
        "    prob_masc = 1-prob_fem\n",
        "    nwords = {'VERB':20, 'ADJMasc':int(200*prob_masc), 'NOUNMasc':int(400*prob_masc), 'ADJFem':int(200*prob_fem), 'NOUNFem':int(400*prob_fem),  \n",
        "            'ADJEpic':100, 'PREP':5, 'DETEpic':5, 'DETMasc':5, 'DETFem':5}\n",
        "            \n",
        "    train_vocab = {}\n",
        "\n",
        "    # convert to list  \n",
        "    for k in nwords:\n",
        "        if k in {'NOUNMasc', 'NOUNFem'}:\n",
        "            train_vocab[k + 'AG'] = full_vocab[k][:nwords[k]//4]\n",
        "            train_vocab[k + 'AU'] = full_vocab[k][nwords[k]//4:nwords[k]//2]\n",
        "            train_vocab[k + 'GG'] = full_vocab[k][nwords[k]//2:nwords[k]*3//4]\n",
        "            train_vocab[k + 'GU'] = full_vocab[k][nwords[k]*3//4:nwords[k]]\n",
        "        else:\n",
        "            train_vocab[k] = full_vocab[k][:nwords[k]]\n",
        "\n",
        "    return train_vocab"
      ]
    },
    {
      "cell_type": "code",
      "execution_count": 74,
      "metadata": {
        "id": "ToN2-h7xqcEs"
      },
      "outputs": [],
      "source": [
        "# Compute probability of each word\n",
        "\n",
        "def generate_word_probabilities(train_vocab):\n",
        "    train_probs = defaultdict(lambda: dict()) # dictionary that maps non terminal symbols to dictionaries that map words to probabilities\n",
        "\n",
        "    for non_term in train_vocab:\n",
        "        for k,w in enumerate(train_vocab[non_term]):\n",
        "            N = len(train_vocab[non_term])\n",
        "            k = k+1\n",
        "            if k != N: \n",
        "                # following a zipfian distribution\n",
        "                denominateur = sum(1/n for n in range(1,N+1))\n",
        "                train_probs[non_term][w] = (1/k)/denominateur\n",
        "            else: # last word\n",
        "                train_probs[non_term][w] = 1 - sum(train_probs[non_term].values())\n",
        "        assert sum(train_probs[non_term].values()) == 1.0 # probabilites of all terminals must add to 1\n",
        "\n",
        "    return train_probs\n"
      ]
    },
    {
      "cell_type": "code",
      "execution_count": 75,
      "metadata": {
        "id": "sirJ88RjpaWY"
      },
      "outputs": [],
      "source": [
        "# Terminal productions\n",
        "def generate_T_rules(train_probs):\n",
        "    return \"\\n\".join(f\"{non_term} -> \" + \" | \".join(f'\"{w}\" [{train_probs[non_term][w]}]' for w in train_probs[non_term]) for non_term in train_probs)"
      ]
    },
    {
      "cell_type": "markdown",
      "metadata": {
        "id": "LlYarSisod_U"
      },
      "source": [
        "## Create train probe PCFG"
      ]
    },
    {
      "cell_type": "code",
      "execution_count": 76,
      "metadata": {
        "id": "_bIMppkvod_V"
      },
      "outputs": [],
      "source": [
        "# Non-terminal productions\n",
        "train_probe_rules = \"\"\"\n",
        "S -> NP VP \".\"[1.0]\n",
        "\n",
        "PP -> PREP NP [1.0]\n",
        "VP -> VERB [0.5] | VERB NP [0.5]\n",
        "\n",
        "NP -> NPGend [0.8] | NP PP [0.20]\n",
        "\n",
        "NPGend -> DETFem npGendFem [0.5] | DETMasc npGendMasc [0.5]\n",
        "npGendFem -> NOUNFemGend [0.4] | ADJFem NOUNFemGend [0.3] | NOUNFemGend ADJFem [0.3] \n",
        "npGendMasc -> NOUNMascGend [0.4] | ADJMasc NOUNMascGend [0.3] | NOUNMascGend ADJMasc [0.3] \n",
        "\n",
        "NOUNFemGend -> NOUNFemGG [0.5] | NOUNFemAG [0.5]\n",
        "NOUNMascGend -> NOUNMascGG [0.5] | NOUNMascAG [0.5]\n",
        "\n",
        "\n",
        "\"\"\"\n",
        "# Only gendered contexts and nouns marked as U (unseen) are not used"
      ]
    },
    {
      "cell_type": "markdown",
      "metadata": {
        "id": "1ZpzY8tuod_X"
      },
      "source": [
        "## Auxiliary functions"
      ]
    },
    {
      "cell_type": "code",
      "execution_count": 77,
      "metadata": {
        "id": "AtSoe6SXod_Y"
      },
      "outputs": [],
      "source": [
        "model_config = \"\"\"\n",
        "context_model : 'GPT' #one of 'RNN', 'LSTM', 'GPT'\n",
        "model_input_size:  [256]\n",
        "model_output_size: [256]\n",
        "num_layers: [3]\n",
        "max_vocab_size: 50000 #Gulordava setup\n",
        "nheads : [4]  #for GPT only\n",
        "ffn_hidden : [1024]   #for GPT only\n",
        "tie_weights : True\n",
        "dropout: [0.3]\n",
        "epochs: [100]\n",
        "batch_size: [64] \n",
        "bptt_chunk : [512]     #size of context for truncated BPTT\n",
        "learning_rate: [0.0005]\n",
        "warmup_epochs: [1]       #number of epochs for warmup\n",
        "warmup_batch_size : [8]  #size of batches during warmup\n",
        "restart_cycles: [4]      #number or warmup restarts for GPT only\n",
        "positional : True        #use positional embeddings or ignore them\n",
        "\"\"\""
      ]
    },
    {
      "cell_type": "code",
      "execution_count": 78,
      "metadata": {
        "id": "NPWIwsuKod_Z"
      },
      "outputs": [],
      "source": [
        "pos2label = lambda pos: 'Fem' if 'Fem' in pos else 'Masc'"
      ]
    },
    {
      "cell_type": "code",
      "execution_count": 79,
      "metadata": {
        "id": "J4LubL_9od_a"
      },
      "outputs": [],
      "source": [
        "def generate_model_data(directory_name, pcfg_rules, word_probabilities, pos2label, w2pos):\n",
        "    train_grammar = PCFG.fromstring(pcfg_rules)\n",
        "\n",
        "    train_data = '\\n'.join(sent for sent in train_grammar.generate(10_000))\n",
        "    with open(directory_name + \"/train_model_data.txt\", \"w\") as outfile:\n",
        "        outfile.write(train_data)\n",
        "\n",
        "    dev_data = '\\n'.join(sent for sent in train_grammar.generate(1_000))\n",
        "    with open(directory_name + \"/dev_model_data.txt\", \"w\") as outfile:\n",
        "        outfile.write(dev_data)\n",
        "    \n",
        "    # Check for OOVs\n",
        "    train_words = {word for word in train_data.split()}\n",
        "    if not all(w in train_words for k in word_probabilities for w in word_probabilities[k]):\n",
        "        return generate_model_data(directory_name, pcfg_rules, word_probabilities, pos2label, w2pos)\n",
        "\n",
        "    # Return gender distribution\n",
        "    train_nouns = [pos2label(w2pos[w]) for w in train_data.split() if 'NOUN' in w2pos.get(w, '')]\n",
        "    df = pd.Series(train_nouns).value_counts()\n",
        "    return {'fem_in_model_data': df['Fem'], 'masc_in_model_data': df['Masc']}"
      ]
    },
    {
      "cell_type": "code",
      "execution_count": 80,
      "metadata": {
        "id": "Z602-f7Xod_b"
      },
      "outputs": [],
      "source": [
        "def train_model(directory_name, model_config):\n",
        "    # returns perplexity on dev set\n",
        "    !mkdir {directory_name}/model\n",
        "    with open(f\"{directory_name}/model/model.yaml\", \"w\") as f:\n",
        "        f.write(model_config)\n",
        "    cmd = f\"python Lm4Ling/nnlm.py {directory_name}/model --train_file {directory_name}/train_model_data.txt --valid_file {directory_name}/dev_model_data.txt --device_name {device}\"\n",
        "    cmd_output = os.popen(cmd).read()\n",
        "    return {'perplexity': float(re.findall(\"Perplexity (.*)[\\r|\\n]\", cmd_output)[0])}"
      ]
    },
    {
      "cell_type": "code",
      "execution_count": 81,
      "metadata": {
        "id": "tg0KA7kDod_c"
      },
      "outputs": [],
      "source": [
        "def generate_probe_data(directory_name, pcfg_rules):\n",
        "    train_probe_grammar = PCFG.fromstring(pcfg_rules)\n",
        "    with open(directory_name + \"/train_probe_data.txt\", \"w\") as outfile:\n",
        "        outfile.write('\\n'.join(sent for sent in train_probe_grammar.generate(1_000)))"
      ]
    },
    {
      "cell_type": "code",
      "execution_count": 82,
      "metadata": {
        "id": "6OpF4MLtod_c"
      },
      "outputs": [],
      "source": [
        "def train_probe(directory_name, w2pos):\n",
        "    # returns gender distribution in the probe training data and the probe\n",
        "    !python Lm4Ling/nnlm.py {directory_name}/model --probe_ex_file {directory_name}/train_probe_data.txt --out_pickle {directory_name}/probe_train_ex.pk --device_name {device}\n",
        "    \n",
        "    df_train = pd.read_pickle(f\"{directory_name}/probe_train_ex.pk\")\n",
        "    df_train['pos'] = df_train['tokens'].apply(lambda w: w2pos.get(w,'NotFound'))\n",
        "    df_train = df_train[df_train.pos.str.startswith('NOUN')]\n",
        "    X_train = df_train[\"vectors\"].tolist()  \n",
        "    scaler = StandardScaler()\n",
        "    scaler.fit(X_train)\n",
        "    X_train = scaler.transform(X_train)\n",
        "\n",
        "    # Prepare labels    \n",
        "    y_train = df_train['pos'].apply(pos2label).tolist()\n",
        "\n",
        "    # Train classifier\n",
        "    classifier = LogisticRegression(penalty = 'l2', solver = 'saga', C=10)\n",
        "    classifier.fit(X_train, y_train)\n",
        "\n",
        "    dist = pd.Series(y_train).value_counts()\n",
        "    return classifier, scaler, {'fem_in_probe_data': dist['Fem'], 'masc_in_probe_data': dist['Masc']}"
      ]
    },
    {
      "cell_type": "code",
      "execution_count": 83,
      "metadata": {
        "id": "oZwJC48dod_d"
      },
      "outputs": [],
      "source": [
        "def generate_rules(train_model, train_probe, test_probe, terminal_rules):\n",
        "    \"\"\"\n",
        "    Produces the appropriate set of rules according to whether the words appeared\n",
        "    in a gendered or ambiguous context when training the model, whether they appeared or not\n",
        "    when training the probe and whether they should appear in a gendered or ambiguous context at train time\n",
        "    \"\"\"\n",
        "    rules = f\"\"\"\n",
        "    S -> NP VP \".\"[1.0]\n",
        "\n",
        "    PP -> PREP NP [1.0]\n",
        "    VP -> VERB [0.5] | VERB NP [0.5]\n",
        "\n",
        "    NOUNFem -> NOUNFem{train_model[0].upper()}{train_probe[0].upper()} [1.0]\n",
        "    NOUNMasc -> NOUNMasc{train_model[0].upper()}{train_probe[0].upper()} [1.0]\n",
        "    \"\"\"\n",
        "    if test_probe == 'gendered context':\n",
        "        return rules + \"\"\"\n",
        "            NP -> NPGend [0.8] | NP PP [0.20]\n",
        "\n",
        "            NPGend -> DETFem npGendFem [0.5] | DETMasc npGendMasc [0.5]\n",
        "            npGendFem -> NOUNFem [0.4] | ADJFem NOUNFem [0.3] | NOUNFem ADJFem [0.3] \n",
        "            npGendMasc -> NOUNMasc [0.4] | ADJMasc NOUNMasc [0.3] | NOUNMasc ADJMasc [0.3] \n",
        "\n",
        "\n",
        "            \"\"\" + terminal_rules\n",
        "    if test_probe == 'ambiguous context':\n",
        "        return rules + \"\"\"\n",
        "            NP -> NPAmb [0.8] | NP PP [0.20]\n",
        "\n",
        "            NPAmb -> DETEpic npAmbFem [0.5] | DETEpic npAmbMasc [0.5]\n",
        "            npAmbFem -> NOUNFem [0.4] | ADJEpic NOUNFem [0.3] | NOUNFem ADJEpic [0.3] \n",
        "            npAmbMasc -> NOUNMasc [0.4] | ADJEpic NOUNMasc [0.3] | NOUNMasc ADJEpic [0.3]\n",
        "\n",
        "\n",
        "            \"\"\" + terminal_rules"
      ]
    },
    {
      "cell_type": "code",
      "execution_count": 84,
      "metadata": {
        "id": "jfqLXnWKod_d"
      },
      "outputs": [],
      "source": [
        "def test_probe(directory_name, terminal_rules, w2pos, scaler, classifier):\n",
        "    res = {}\n",
        "    for train_model in ['gendered context', 'ambiguous context']:\n",
        "            for train_probe in ['gendered context', 'unseen']:\n",
        "                for test_probe in ['gendered context', 'ambiguous context']:\n",
        "                    test_rules = generate_rules(train_model, train_probe, test_probe, terminal_rules).replace('    ', '')             \n",
        "                    test_grammar = PCFG.fromstring(test_rules)\n",
        "                    \n",
        "                    with open(directory_name + \"/test_data.txt\", \"w\") as outfile:\n",
        "                        outfile.write('\\n'.join(sent for sent in test_grammar.generate(1_000)))\n",
        "                    \n",
        "                    with io.capture_output() as captured:\n",
        "                        !python Lm4Ling/nnlm.py {directory_name}/model --probe_ex_file {directory_name + \"/test_data.txt\"} --out_pickle {directory_name + \"/test_ex.pk\"} --device_name {device}\n",
        "                                    \n",
        "                    df_test = pd.read_pickle(directory_name + \"/test_ex.pk\")\n",
        "                    df_test['pos'] = df_test['tokens'].apply(lambda w: w2pos.get(w, 'NotFound'))\n",
        "                    df_test = df_test[df_test.pos.str.startswith('NOUN')]\n",
        "                    X_test = df_test[\"vectors\"].tolist()  \n",
        "                    X_test = scaler.transform(X_test)\n",
        "                    y_test = df_test['pos'].apply(pos2label).tolist()\n",
        "\n",
        "                    code = train_model[0].upper() + train_probe[0].upper() + test_probe[0].upper()\n",
        "                    res[\"accuracy_\" + code] = classifier.score(X_test, y_test)\n",
        "\n",
        "                    if code == \"AUA\":\n",
        "                        y_hat_test = classifier.predict(X_test)\n",
        "                        confusion_list = confusion_matrix(y_test, y_hat_test, labels=['Masc','Fem']).flatten()\n",
        "                        res['true_masc_AUA'], res['false_fem_AUA'], res['false_masc_AUA'], res['true_fem_AUA'] = confusion_list\n",
        "    return res"
      ]
    },
    {
      "cell_type": "markdown",
      "metadata": {
        "id": "x0g5_dt3od_e"
      },
      "source": [
        "# Main loop"
      ]
    },
    {
      "cell_type": "code",
      "execution_count": null,
      "metadata": {},
      "outputs": [],
      "source": [
        "# Folder where results are saved\n",
        "\n",
        "if not os.path.exists(\"results/exp_default_guess/\"): \n",
        "    os.makedirs(\"results/exp_default_guess/\") "
      ]
    },
    {
      "cell_type": "code",
      "execution_count": null,
      "metadata": {
        "id": "I40i58YNod_e"
      },
      "outputs": [],
      "source": [
        "columns = ['perplexity', 'fem_in_model_data', 'masc_in_model_data', 'fem_in_probe_data', 'masc_in_probe_data', \n",
        "           'accuracy_GGG', 'accuracy_GGA', 'accuracy_GUG', 'accuracy_GUA', \n",
        "           'accuracy_AGG', 'accuracy_AGA', 'accuracy_AUG', 'accuracy_AUA', \n",
        "           'true_fem_AUA', 'false_fem_AUA', 'false_masc_AUA', 'true_masc_AUA']\n",
        "\n",
        "\n",
        "for prob_fem in [0.4, 0.3, 0.2, 0.1]:\n",
        "    data_df = []\n",
        "\n",
        "    # do everything in a temp file\n",
        "    for i in range(20):\n",
        "        print(f\"-------------------------------- ITERATION {i} --------------------------------\")\n",
        "        with tempfile.TemporaryDirectory() as directory_name:\n",
        "            #temp_dir = str(pathlib.Path(directory_name))\n",
        "            row = {}\n",
        "\n",
        "            # generate and save train and dev sets and get gender distribution\n",
        "            train_NT_rules = generate_NT_rules(prob_fem)\n",
        "            train_vocab = generate_vocab(full_vocab, prob_fem)\n",
        "            train_probs = generate_word_probabilities(train_vocab)\n",
        "            terminal_rules = generate_T_rules(train_probs)\n",
        "            train_model_rules = train_NT_rules + terminal_rules\n",
        "            w2pos = {w: pos for pos in train_vocab for w in train_vocab[pos]}\n",
        "            row.update(generate_model_data(directory_name, train_model_rules, train_probs, pos2label, w2pos))\n",
        "\n",
        "            # train model and get perplexity\n",
        "            row.update(train_model(directory_name, model_config))\n",
        "\n",
        "            # generate probe training data\n",
        "            generate_probe_data(directory_name, train_probe_rules+terminal_rules)\n",
        "            \n",
        "            # train probe and get gender distribution in data\n",
        "            classifier, scaler, probe_dist = train_probe(directory_name, w2pos)\n",
        "            row.update(probe_dist)\n",
        "\n",
        "            # test the probe for all configurations and get accuracies and confusion matrix for AUA\n",
        "            row.update(test_probe(directory_name, terminal_rules, w2pos, scaler, classifier))\n",
        "            data_df.append(row)\n",
        "\n",
        "    df = pd.DataFrame(columns=columns, data=data_df)\n",
        "    df.to_json(f\"results/exp_default_guess/entire_df_{round(prob_fem*100)}_{(round(1-prob_fem)*100)}.json\")\n"
      ]
    },
    {
      "cell_type": "markdown",
      "metadata": {
        "id": "zl83Jhebod_g"
      },
      "source": [
        "## Analyse results"
      ]
    },
    {
      "cell_type": "code",
      "execution_count": 88,
      "metadata": {},
      "outputs": [],
      "source": [
        "df_50 = pd.read_json(\"results/exp_default_guess/entire_df_50_50.json\")\n",
        "df_40 = pd.read_json(\"results/exp_default_guess/entire_df_40_60.json\")\n",
        "df_30 = pd.read_json(\"results/exp_default_guess/entire_df_30_70.json\")\n",
        "df_20 = pd.read_json(\"results/exp_default_guess/entire_df_20_80.json\")\n",
        "df_10 = pd.read_json(\"results/exp_default_guess/entire_df_10_90.json\")"
      ]
    },
    {
      "cell_type": "code",
      "execution_count": 96,
      "metadata": {},
      "outputs": [],
      "source": [
        "def compute_bias(df):\n",
        "    if df.fem_in_model_data > df.masc_in_model_data:\n",
        "        return ((df.true_fem_AUA+df.false_fem_AUA)*2 / (df.true_fem_AUA+df.false_fem_AUA+df.false_masc_AUA+df.true_masc_AUA))-1\n",
        "    else:\n",
        "        return ((df.true_masc_AUA+df.false_masc_AUA)*2 / (df.true_fem_AUA+df.false_fem_AUA+df.false_masc_AUA+df.true_masc_AUA))-1\n",
        "    \n",
        "for df, proportion in [(df_50,\"50%\"), (df_40,\"40%\"), (df_30,\"30%\"), (df_20,\"20%\"), (df_10,\"10%\")]:\n",
        "    df['proportion'] = proportion\n",
        "    df['default_bias'] = df.apply(compute_bias, axis=1)"
      ]
    },
    {
      "cell_type": "code",
      "execution_count": 104,
      "metadata": {},
      "outputs": [],
      "source": [
        "df = pd.concat([df_50, df_40, df_30, df_20, df_10], axis=0)"
      ]
    },
    {
      "cell_type": "code",
      "execution_count": 117,
      "metadata": {},
      "outputs": [
        {
          "data": {
            "text/plain": [
              "[Text(0.5, 0, 'Proportion of feminine nouns in the training data'),\n",
              " Text(0, 0.5, 'Degree of bias')]"
            ]
          },
          "execution_count": 117,
          "metadata": {},
          "output_type": "execute_result"
        },
        {
          "data": {
            "image/png": "[encoded data removed]",
            "text/plain": [
              "<Figure size 640x480 with 1 Axes>"
            ]
          },
          "metadata": {},
          "output_type": "display_data"
        }
      ],
      "source": [
        "sns.stripplot(data=df, x=\"proportion\", y=\"default_bias\").set(xlabel='Proportion of feminine nouns in the training data',\n",
        "                                                             ylabel='Degree of bias')"
      ]
    },
    {
      "cell_type": "code",
      "execution_count": null,
      "metadata": {},
      "outputs": [],
      "source": []
    }
  ],
  "metadata": {
    "colab": {
      "provenance": []
    },
    "gpuClass": "standard",
    "kernelspec": {
      "display_name": ".venv",
      "language": "python",
      "name": "python3"
    },
    "language_info": {
      "codemirror_mode": {
        "name": "ipython",
        "version": 3
      },
      "file_extension": ".py",
      "mimetype": "text/x-python",
      "name": "python",
      "nbconvert_exporter": "python",
      "pygments_lexer": "ipython3",
      "version": "3.8.8"
    },
    "vscode": {
      "interpreter": {
        "hash": "2b961adf93988a8634fdc2b6879cad8a348a5f3df5f57a68ac1fd09f1dd31685"
      }
    }
  },
  "nbformat": 4,
  "nbformat_minor": 0
}
