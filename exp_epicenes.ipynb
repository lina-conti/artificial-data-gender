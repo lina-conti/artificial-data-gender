{
  "cells": [
    {
      "attachments": {},
      "cell_type": "markdown",
      "metadata": {},
      "source": [
        "Experiment to study how the model handles common gender nouns with different distributions, to test what is more important when predicting the gender, the context at inference time or distribution at train time.\n",
        "\n",
        "Trains 20 models and outputs the average accuracy for each category of noun and context."
      ]
    },
    {
      "cell_type": "markdown",
      "metadata": {
        "id": "C-ib2v9sZzI-"
      },
      "source": [
        "## Requirements"
      ]
    },
    {
      "cell_type": "code",
      "execution_count": 1,
      "metadata": {
        "colab": {
          "background_save": true
        },
        "id": "T6qiATtTZ8wT"
      },
      "outputs": [],
      "source": [
        "import json\n",
        "from collections import defaultdict\n",
        "from pcfg import PCFG\n",
        "from sklearn.linear_model import LogisticRegression\n",
        "from sklearn.preprocessing import StandardScaler\n",
        "import pandas as pd\n",
        "import pathlib\n",
        "import tempfile\n",
        "import numpy as np\n",
        "from sklearn.manifold import TSNE\n",
        "from sklearn.metrics import confusion_matrix\n",
        "import seaborn as sns\n",
        "import random\n",
        "from IPython.utils import io\n",
        "import re\n",
        "import os"
      ]
    },
    {
      "cell_type": "code",
      "execution_count": 2,
      "metadata": {},
      "outputs": [],
      "source": [
        "device = 'cuda:0'"
      ]
    },
    {
      "cell_type": "markdown",
      "metadata": {
        "id": "W_A6PHTroMem"
      },
      "source": [
        "## Get vocabulary"
      ]
    },
    {
      "cell_type": "code",
      "execution_count": 3,
      "metadata": {
        "id": "HEYv79yveDco"
      },
      "outputs": [],
      "source": [
        "with open('full_vocabulary.json', 'r') as openfile:\n",
        "    full_vocab = json.load(openfile)"
      ]
    },
    {
      "cell_type": "markdown",
      "metadata": {
        "id": "8htNOy5SpDqE"
      },
      "source": [
        "## Create train model PCFG"
      ]
    },
    {
      "cell_type": "code",
      "execution_count": 4,
      "metadata": {
        "id": "OtS_fDL9owT2"
      },
      "outputs": [],
      "source": [
        "# Non-terminal productions\n",
        "non_terminal_rules = \"\"\"\n",
        "S -> NP VP \".\"[1.0]\n",
        "\n",
        "PP -> PREP NP [1.0]\n",
        "VP -> VERB [0.5] | VERB NP [0.5]\n",
        "\n",
        "NP -> NPGend [0.4] | NPAmb [0.4] | NP PP [0.20]\n",
        "\n",
        "NPAmb -> DETEpic NOUN [0.4] | DETEpic ADJEpic NOUN [0.3] | DETEpic NOUN ADJEpic [0.3] \n",
        "NOUN -> NOUNMasc [0.35] | NOUNFem [0.35] | NOUN25 [0.1] | NOUN50 [0.1] | NOUN75 [0.1]\n",
        "\n",
        "NPGend -> NPFem [0.35] | NPMasc [0.35] | NP25 [0.1] | NP50 [0.1] | NP75 [0.1]\n",
        "\n",
        "NPFem -> DETFem NOUNFem [0.4] | DETFem ADJFem NOUNFem [0.3] | DETFem NOUNFem ADJFem [0.3] \n",
        "NPMasc -> DETMasc NOUNMasc [0.4] | DETMasc ADJMasc NOUNMasc [0.3] | DETMasc NOUNMasc ADJMasc [0.3] \n",
        "\n",
        "NP25 -> DETFem np25Fem [0.25] | DETMasc np25Masc [0.75]\n",
        "np25Fem -> NOUN25 [0.4] | ADJFem NOUN25 [0.3] | NOUN25 ADJFem [0.3] \n",
        "np25Masc -> NOUN25 [0.4] | ADJMasc NOUN25 [0.3] | NOUN25 ADJMasc [0.3] \n",
        "\n",
        "NP50 -> DETFem np50Fem [0.50] | DETMasc np50Masc [0.50]\n",
        "np50Fem -> NOUN50 [0.4] | ADJFem NOUN50 [0.3] | NOUN50 ADJFem [0.3] \n",
        "np50Masc -> NOUN50 [0.4] | ADJMasc NOUN50 [0.3] | NOUN50 ADJMasc [0.3] \n",
        "\n",
        "NP75 -> DETFem np75Fem [0.75] | DETMasc np75Masc [0.25]\n",
        "np75Fem -> NOUN75 [0.4] | ADJFem NOUN75 [0.3] | NOUN75 ADJFem [0.3] \n",
        "np75Masc -> NOUN75 [0.4] | ADJMasc NOUN75 [0.3] | NOUN75 ADJMasc [0.3] \n",
        "\n",
        "\n",
        "\"\"\""
      ]
    },
    {
      "cell_type": "code",
      "execution_count": 5,
      "metadata": {
        "colab": {
          "base_uri": "https://localhost:8080/"
        },
        "id": "DGAiqH4fod_O",
        "outputId": "cb4ff78c-7c9c-4553-98cd-7adcf24c6b4b"
      },
      "outputs": [
        {
          "name": "stdout",
          "output_type": "stream",
          "text": [
            "VERB 20\n",
            "DETFem 5\n",
            "DETMasc 5\n",
            "DETEpic 5\n",
            "PREP 5\n",
            "NOUN25 40\n",
            "NOUN50 40\n",
            "NOUN75 40\n",
            "NOUNFem 140\n",
            "NOUNMasc 140\n",
            "ADJFem 100\n",
            "ADJMasc 100\n",
            "ADJEpic 100\n"
          ]
        }
      ],
      "source": [
        "# Choose subset of full vocabulary to be used\n",
        "\n",
        "nwords = {'VERB':20, 'ADJMasc':100, 'ADJFem':100, 'ADJEpic':100, \n",
        "          'PREP':5, 'DETEpic':5, 'DETMasc':5, 'DETFem':5,\n",
        "          'NOUNMasc':140, 'NOUNFem':140, 'NOUN25':40, 'NOUN50':40, 'NOUN75':40}\n",
        "        \n",
        "train_vocab = {}\n",
        "\n",
        "# convert to list  \n",
        "for k in full_vocab:\n",
        "    if k == 'NOUNEpic':\n",
        "        train_vocab['NOUN25'] = full_vocab[k][:nwords['NOUN25']]\n",
        "        train_vocab['NOUN50'] = full_vocab[k][nwords['NOUN25']:nwords['NOUN25']+nwords['NOUN50']]\n",
        "        train_vocab['NOUN75'] = full_vocab[k][nwords['NOUN25']+nwords['NOUN50']:nwords['NOUN25']+nwords['NOUN50']+nwords['NOUN75']]\n",
        "    else:\n",
        "        train_vocab[k] = full_vocab[k][:nwords[k]]\n",
        " \n",
        "for k in train_vocab:\n",
        "    print(k, len(train_vocab[k]))"
      ]
    },
    {
      "cell_type": "code",
      "execution_count": 6,
      "metadata": {
        "id": "ToN2-h7xqcEs"
      },
      "outputs": [],
      "source": [
        "# Compute probability of each word\n",
        "\n",
        "train_probs = defaultdict(lambda: dict()) # dictionary that maps non terminal symbols to dictionaries that map words to probabilities\n",
        "\n",
        "for non_term in train_vocab:\n",
        "    for k,w in enumerate(train_vocab[non_term]):\n",
        "        N = len(train_vocab[non_term])\n",
        "        k = k+1\n",
        "        if k != N: \n",
        "            # following a zipfian distribution\n",
        "            denominateur = sum(1/n for n in range(1,N+1))\n",
        "            train_probs[non_term][w] = (1/k)/denominateur\n",
        "        else: # last word\n",
        "            train_probs[non_term][w] = 1 - sum(train_probs[non_term].values())\n",
        "    assert sum(train_probs[non_term].values()) == 1.0 # probabilites of all terminals must add to 1\n"
      ]
    },
    {
      "cell_type": "code",
      "execution_count": 7,
      "metadata": {
        "id": "sirJ88RjpaWY"
      },
      "outputs": [],
      "source": [
        "# Terminal productions\n",
        "terminal_rules = \"\\n\".join(f\"{non_term} -> \" + \" | \".join(f'\"{w}\" [{train_probs[non_term][w]}]' for w in train_probs[non_term]) for non_term in train_probs)\n",
        "train_model_rules = non_terminal_rules + terminal_rules"
      ]
    },
    {
      "cell_type": "code",
      "execution_count": 8,
      "metadata": {},
      "outputs": [],
      "source": [
        "#print(train_model_rules)"
      ]
    },
    {
      "cell_type": "code",
      "execution_count": null,
      "metadata": {},
      "outputs": [],
      "source": [
        "#train_grammar = PCFG.fromstring(train_model_rules)\n",
        "#for sent in train_grammar.generate(20):\n",
        "#    print(sent)"
      ]
    },
    {
      "cell_type": "markdown",
      "metadata": {
        "id": "LlYarSisod_U"
      },
      "source": [
        "## Create train probe PCFG"
      ]
    },
    {
      "cell_type": "code",
      "execution_count": 10,
      "metadata": {
        "id": "_bIMppkvod_V"
      },
      "outputs": [],
      "source": [
        "# Non-terminal productions\n",
        "train_probe_rules = \"\"\"\n",
        "S -> NP VP \".\"[1.0]\n",
        "\n",
        "PP -> PREP NP [1.0]\n",
        "VP -> VERB [0.5] | VERB NP [0.5]\n",
        "\n",
        "NP -> NPGend [0.8] | NP PP [0.20]\n",
        "\n",
        "NPGend -> NPFem [0.35] | NPMasc [0.35] | NP25 [0.1] | NP50 [0.1] | NP75 [0.1]\n",
        "\n",
        "NPFem -> DETFem NOUNFem [0.4] | DETFem ADJFem NOUNFem [0.3] | DETFem NOUNFem ADJFem [0.3] \n",
        "NPMasc -> DETMasc NOUNMasc [0.4] | DETMasc ADJMasc NOUNMasc [0.3] | DETMasc NOUNMasc ADJMasc [0.3] \n",
        "\n",
        "NP25 -> DETFem np25Fem [0.25] | DETMasc np25Masc [0.75]\n",
        "np25Fem -> NOUN25 [0.4] | ADJFem NOUN25 [0.3] | NOUN25 ADJFem [0.3] \n",
        "np25Masc -> NOUN25 [0.4] | ADJMasc NOUN25 [0.3] | NOUN25 ADJMasc [0.3] \n",
        "\n",
        "NP50 -> DETFem np50Fem [0.50] | DETMasc np50Masc [0.50]\n",
        "np50Fem -> NOUN50 [0.4] | ADJFem NOUN50 [0.3] | NOUN50 ADJFem [0.3] \n",
        "np50Masc -> NOUN50 [0.4] | ADJMasc NOUN50 [0.3] | NOUN50 ADJMasc [0.3] \n",
        "\n",
        "NP75 -> DETFem np75Fem [0.75] | DETMasc np75Masc [0.25]\n",
        "np75Fem -> NOUN75 [0.4] | ADJFem NOUN75 [0.3] | NOUN75 ADJFem [0.3] \n",
        "np75Masc -> NOUN75 [0.4] | ADJMasc NOUN75 [0.3] | NOUN75 ADJMasc [0.3] \n",
        "\n",
        "\n",
        "\"\"\"\n",
        "# Only gendered contexts and nouns marked as U (unseen) are not used"
      ]
    },
    {
      "cell_type": "code",
      "execution_count": 11,
      "metadata": {
        "id": "-yR0Nraeod_X"
      },
      "outputs": [],
      "source": [
        "train_probe_rules += terminal_rules"
      ]
    },
    {
      "cell_type": "markdown",
      "metadata": {
        "id": "1ZpzY8tuod_X"
      },
      "source": [
        "## Auxiliary functions"
      ]
    },
    {
      "cell_type": "code",
      "execution_count": 12,
      "metadata": {
        "id": "AtSoe6SXod_Y"
      },
      "outputs": [],
      "source": [
        "model_config = \"\"\"\n",
        "context_model : 'GPT' #one of 'RNN', 'LSTM', 'GPT'\n",
        "model_input_size:  [256]\n",
        "model_output_size: [256]\n",
        "num_layers: [3]\n",
        "max_vocab_size: 50000 #Gulordava setup\n",
        "nheads : [4]  #for GPT only\n",
        "ffn_hidden : [1024]   #for GPT only\n",
        "tie_weights : True\n",
        "dropout: [0.3]\n",
        "epochs: [100]\n",
        "batch_size: [64] \n",
        "bptt_chunk : [512]     #size of context for truncated BPTT\n",
        "learning_rate: [0.0005]\n",
        "warmup_epochs: [1]       #number of epochs for warmup\n",
        "warmup_batch_size : [8]  #size of batches during warmup\n",
        "restart_cycles: [4]      #number or warmup restarts for GPT only\n",
        "positional : True        #use positional embeddings or ignore them\n",
        "\"\"\""
      ]
    },
    {
      "cell_type": "code",
      "execution_count": 13,
      "metadata": {
        "id": "NPWIwsuKod_Z"
      },
      "outputs": [],
      "source": [
        "def pos2label(pos):\n",
        "    if 'DETFem' == pos:\n",
        "        return 'Fem'\n",
        "    if 'DETMasc' == pos:\n",
        "        return 'Masc'\n",
        "    #voluntarily undefined for other cases so it generates NaN values and I can use ffill"
      ]
    },
    {
      "cell_type": "code",
      "execution_count": 14,
      "metadata": {
        "id": "8EuSOeOYod_Z"
      },
      "outputs": [],
      "source": [
        "w2pos = {w: pos for pos in train_vocab for w in train_vocab[pos]}"
      ]
    },
    {
      "cell_type": "code",
      "execution_count": 15,
      "metadata": {
        "id": "J4LubL_9od_a"
      },
      "outputs": [],
      "source": [
        "def generate_model_data(directory_name, pcfg_rules, word_probabilities):\n",
        "    train_grammar = PCFG.fromstring(pcfg_rules)\n",
        "\n",
        "    train_data = '\\n'.join(sent for sent in train_grammar.generate(10_000))\n",
        "    with open(directory_name + \"/train_model_data.txt\", \"w\") as outfile:\n",
        "        outfile.write(train_data)\n",
        "\n",
        "    dev_data = '\\n'.join(sent for sent in train_grammar.generate(1_000))\n",
        "    with open(directory_name + \"/dev_model_data.txt\", \"w\") as outfile:\n",
        "        outfile.write(dev_data)\n",
        "    \n",
        "    # Check for OOVs\n",
        "    train_words = {word for word in train_data.split()}\n",
        "    if not all(w in train_words for k in word_probabilities for w in word_probabilities[k]):\n",
        "        generate_model_data(directory_name, pcfg_rules, word_probabilities)"
      ]
    },
    {
      "cell_type": "code",
      "execution_count": 16,
      "metadata": {
        "id": "Z602-f7Xod_b"
      },
      "outputs": [],
      "source": [
        "def train_model(directory_name, model_config):\n",
        "    # returns perplexity on dev set\n",
        "    !mkdir {directory_name}/model\n",
        "    with open(f\"{directory_name}/model/model.yaml\", \"w\") as f:\n",
        "        f.write(model_config)\n",
        "    cmd = f\"python Lm4Ling/nnlm.py {directory_name}/model --train_file {directory_name}/train_model_data.txt --valid_file {directory_name}/dev_model_data.txt --device_name {device}\"\n",
        "    cmd_output = os.popen(cmd).read()\n",
        "    return float(re.findall(\"Perplexity (.*)[\\r|\\n]\", cmd_output)[0])"
      ]
    },
    {
      "cell_type": "code",
      "execution_count": 17,
      "metadata": {
        "id": "tg0KA7kDod_c"
      },
      "outputs": [],
      "source": [
        "def generate_probe_data(directory_name, pcfg_rules):\n",
        "    train_probe_grammar = PCFG.fromstring(pcfg_rules)\n",
        "    with open(directory_name + \"/train_probe_data.txt\", \"w\") as outfile:\n",
        "        outfile.write('\\n'.join(sent for sent in train_probe_grammar.generate(1_000)))"
      ]
    },
    {
      "cell_type": "code",
      "execution_count": 19,
      "metadata": {
        "id": "6OpF4MLtod_c"
      },
      "outputs": [],
      "source": [
        "def train_probe(directory_name):\n",
        "    # returns the probe\n",
        "    !python Lm4Ling/nnlm.py {directory_name}/model --probe_ex_file {directory_name}/train_probe_data.txt --out_pickle {directory_name}/probe_train_ex.pk --device_name {device}\n",
        "    \n",
        "    df_train = pd.read_pickle(f\"{directory_name}/probe_train_ex.pk\")\n",
        "    df_train['pos'] = df_train['tokens'].apply(lambda w: w2pos.get(w,'NotFound'))\n",
        "    df_train['labels'] = df_train['pos'].apply(pos2label).fillna(method='ffill')\n",
        "    df_train = df_train[df_train.pos.str.startswith('NOUN')]\n",
        "    X_train = df_train[\"vectors\"].tolist()  \n",
        "    scaler = StandardScaler()\n",
        "    scaler.fit(X_train)\n",
        "    X_train = scaler.transform(X_train)\n",
        "\n",
        "    # Prepare labels    \n",
        "    assert df_train['labels'].nunique(dropna=False) == 2 #check that every noun has a label\n",
        "    y_train = df_train['labels'].tolist()\n",
        "\n",
        "    # Train classifier\n",
        "    classifier = LogisticRegression(penalty = 'l2', solver = 'saga', C=10)\n",
        "    classifier.fit(X_train, y_train)\n",
        "\n",
        "    return classifier, scaler"
      ]
    },
    {
      "cell_type": "code",
      "execution_count": 20,
      "metadata": {
        "id": "oZwJC48dod_d"
      },
      "outputs": [],
      "source": [
        "def generate_rules(noun_category, context, terminal_rules):\n",
        "    # Produces the appropriate set of rules according to whether nouns should appear in a gendered or ambiguous context\n",
        "    return f\"\"\"\n",
        "    S -> NP VP \".\"[1.0]\n",
        "\n",
        "    PP -> PREP NP [1.0]\n",
        "    VP -> VERB [0.5] | VERB NP [0.5]\n",
        "\n",
        "    NP -> NP{context} [0.80] | NP PP [0.20]\n",
        "\n",
        "    NPAmb -> DETEpic NOUN [0.4] | DETEpic ADJEpic NOUN [0.3] | DETEpic NOUN ADJEpic [0.3] \n",
        "    NPFem -> DETFem NOUN [0.4] | DETFem ADJFem NOUN [0.3] | DETFem NOUN ADJFem [0.3] \n",
        "    NPMasc -> DETMasc NOUN [0.4] | DETMasc ADJMasc NOUN [0.3] | DETMasc NOUN ADJMasc [0.3]\n",
        "\n",
        "    NOUN -> NOUN{noun_category} [1.0]\n",
        "\n",
        "    \n",
        "    \"\"\" + terminal_rules"
      ]
    },
    {
      "cell_type": "code",
      "execution_count": 21,
      "metadata": {
        "id": "jfqLXnWKod_d"
      },
      "outputs": [],
      "source": [
        "def test_probe(directory_name, terminal_rules, w2pos, scaler, classifier, w2prob, error_data):\n",
        "    for noun_category in ['Fem', 'Masc', '25', '50', '75']:\n",
        "        for context in ['Fem', 'Masc', 'Amb']:\n",
        "            test_rules = generate_rules(noun_category, context, terminal_rules).replace('    ', '')             \n",
        "            test_grammar = PCFG.fromstring(test_rules)\n",
        "            \n",
        "            with open(directory_name + \"/test_data.txt\", \"w\") as outfile:\n",
        "                outfile.write('\\n'.join(sent for sent in test_grammar.generate(1_000)))\n",
        "            \n",
        "            with io.capture_output() as captured:\n",
        "                !python Lm4Ling/nnlm.py {directory_name}/model --probe_ex_file {directory_name + \"/test_data.txt\"} --out_pickle {directory_name + \"/test_ex.pk\"} --device_name {device}\n",
        "                            \n",
        "            df_test = pd.read_pickle(directory_name + \"/test_ex.pk\")\n",
        "            df_test['pos'] = df_test['tokens'].apply(lambda w: w2pos.get(w, 'NotFound'))\n",
        "            df_test = df_test[df_test.pos.str.startswith('NOUN')]\n",
        "            X_test = df_test[\"vectors\"].tolist()  \n",
        "            X_test = scaler.transform(X_test)\n",
        "            \n",
        "            y_hat_test = classifier.predict(X_test)\n",
        "            error_data['prediction'] += list(y_hat_test)\n",
        "            error_data['noun_category'] += [noun_category] * len(y_hat_test)\n",
        "            error_data['context'] += [context] * len(y_hat_test)\n",
        "            error_data['probability'] += df_test['tokens'].replace(w2prob).to_list()"
      ]
    },
    {
      "cell_type": "markdown",
      "metadata": {
        "id": "x0g5_dt3od_e"
      },
      "source": [
        "# Main loop"
      ]
    },
    {
      "cell_type": "code",
      "execution_count": null,
      "metadata": {
        "id": "I40i58YNod_e"
      },
      "outputs": [],
      "source": [
        "perplexities = []\n",
        "error_data = {'noun_category': [], 'context': [], 'prediction': [], 'probability': []}\n",
        "# remove the pos level of train_probs\n",
        "w2prob = dict(element for subdict in train_probs.values() for element in subdict.items())\n",
        "\n",
        "# do everything in a temp file\n",
        "for i in range(20):\n",
        "    print(f\"-------------------------------- ITERATION {i} --------------------------------\")\n",
        "    with tempfile.TemporaryDirectory() as directory_name:\n",
        "        #temp_dir = str(pathlib.Path(directory_name))\n",
        "        # generate and save train and dev sets\n",
        "        generate_model_data(directory_name, train_model_rules, train_probs)\n",
        "        # train model and get perplexity\n",
        "        perplexities.append(train_model(directory_name, model_config))\n",
        "        # generate probe training data\n",
        "        generate_probe_data(directory_name, train_probe_rules)\n",
        "        # train probe and get gender distribution in data\n",
        "        classifier, scaler = train_probe(directory_name)\n",
        "        # test the probe for all configurations and get accuracies and confusion matrix for AUA\n",
        "        test_probe(directory_name, terminal_rules, w2pos, scaler, classifier, w2prob, error_data)"
      ]
    },
    {
      "cell_type": "code",
      "execution_count": null,
      "metadata": {},
      "outputs": [
        {
          "data": {
            "text/plain": [
              "23.1091245"
            ]
          },
          "execution_count": 24,
          "metadata": {},
          "output_type": "execute_result"
        }
      ],
      "source": [
        "# Average perplexity over the 20 trained models\n",
        "sum(perplexities)/len(perplexities)"
      ]
    },
    {
      "cell_type": "code",
      "execution_count": null,
      "metadata": {},
      "outputs": [
        {
          "data": {
            "text/html": [
              "<div>\n",
              "<style scoped>\n",
              "    .dataframe tbody tr th:only-of-type {\n",
              "        vertical-align: middle;\n",
              "    }\n",
              "\n",
              "    .dataframe tbody tr th {\n",
              "        vertical-align: top;\n",
              "    }\n",
              "\n",
              "    .dataframe thead th {\n",
              "        text-align: right;\n",
              "    }\n",
              "</style>\n",
              "<table border=\"1\" class=\"dataframe\">\n",
              "  <thead>\n",
              "    <tr style=\"text-align: right;\">\n",
              "      <th></th>\n",
              "      <th>noun_category</th>\n",
              "      <th>context</th>\n",
              "      <th>prediction</th>\n",
              "      <th>probability</th>\n",
              "    </tr>\n",
              "  </thead>\n",
              "  <tbody>\n",
              "    <tr>\n",
              "      <th>0</th>\n",
              "      <td>Fem</td>\n",
              "      <td>Fem</td>\n",
              "      <td>Fem</td>\n",
              "      <td>0.181080</td>\n",
              "    </tr>\n",
              "    <tr>\n",
              "      <th>1</th>\n",
              "      <td>Fem</td>\n",
              "      <td>Fem</td>\n",
              "      <td>Fem</td>\n",
              "      <td>0.181080</td>\n",
              "    </tr>\n",
              "    <tr>\n",
              "      <th>2</th>\n",
              "      <td>Fem</td>\n",
              "      <td>Fem</td>\n",
              "      <td>Fem</td>\n",
              "      <td>0.001522</td>\n",
              "    </tr>\n",
              "    <tr>\n",
              "      <th>3</th>\n",
              "      <td>Fem</td>\n",
              "      <td>Fem</td>\n",
              "      <td>Fem</td>\n",
              "      <td>0.004643</td>\n",
              "    </tr>\n",
              "    <tr>\n",
              "      <th>4</th>\n",
              "      <td>Fem</td>\n",
              "      <td>Fem</td>\n",
              "      <td>Fem</td>\n",
              "      <td>0.181080</td>\n",
              "    </tr>\n",
              "    <tr>\n",
              "      <th>...</th>\n",
              "      <td>...</td>\n",
              "      <td>...</td>\n",
              "      <td>...</td>\n",
              "      <td>...</td>\n",
              "    </tr>\n",
              "    <tr>\n",
              "      <th>600060</th>\n",
              "      <td>75</td>\n",
              "      <td>Amb</td>\n",
              "      <td>Fem</td>\n",
              "      <td>0.006151</td>\n",
              "    </tr>\n",
              "    <tr>\n",
              "      <th>600061</th>\n",
              "      <td>75</td>\n",
              "      <td>Amb</td>\n",
              "      <td>Fem</td>\n",
              "      <td>0.011686</td>\n",
              "    </tr>\n",
              "    <tr>\n",
              "      <th>600062</th>\n",
              "      <td>75</td>\n",
              "      <td>Amb</td>\n",
              "      <td>Fem</td>\n",
              "      <td>0.233724</td>\n",
              "    </tr>\n",
              "    <tr>\n",
              "      <th>600063</th>\n",
              "      <td>75</td>\n",
              "      <td>Amb</td>\n",
              "      <td>Fem</td>\n",
              "      <td>0.233724</td>\n",
              "    </tr>\n",
              "    <tr>\n",
              "      <th>600064</th>\n",
              "      <td>75</td>\n",
              "      <td>Amb</td>\n",
              "      <td>Fem</td>\n",
              "      <td>0.019477</td>\n",
              "    </tr>\n",
              "  </tbody>\n",
              "</table>\n",
              "<p>600065 rows × 4 columns</p>\n",
              "</div>"
            ],
            "text/plain": [
              "       noun_category context prediction  probability\n",
              "0                Fem     Fem        Fem     0.181080\n",
              "1                Fem     Fem        Fem     0.181080\n",
              "2                Fem     Fem        Fem     0.001522\n",
              "3                Fem     Fem        Fem     0.004643\n",
              "4                Fem     Fem        Fem     0.181080\n",
              "...              ...     ...        ...          ...\n",
              "600060            75     Amb        Fem     0.006151\n",
              "600061            75     Amb        Fem     0.011686\n",
              "600062            75     Amb        Fem     0.233724\n",
              "600063            75     Amb        Fem     0.233724\n",
              "600064            75     Amb        Fem     0.019477\n",
              "\n",
              "[600065 rows x 4 columns]"
            ]
          },
          "execution_count": 25,
          "metadata": {},
          "output_type": "execute_result"
        }
      ],
      "source": [
        "df = pd.DataFrame(error_data)\n",
        "df"
      ]
    },
    {
      "cell_type": "code",
      "execution_count": 23,
      "metadata": {},
      "outputs": [],
      "source": [
        "if not os.path.exists(\"results/exp_epicenes/\"): \n",
        "    os.makedirs(\"results/exp_epicenes/\") "
      ]
    },
    {
      "cell_type": "code",
      "execution_count": null,
      "metadata": {
        "id": "Ay0i05ovod_f"
      },
      "outputs": [],
      "source": [
        "df.to_json(\"results/exp_epicenes/df_raw_results.json\")"
      ]
    },
    {
      "cell_type": "markdown",
      "metadata": {
        "id": "zl83Jhebod_g"
      },
      "source": [
        "## Analyse results"
      ]
    },
    {
      "cell_type": "code",
      "execution_count": null,
      "metadata": {},
      "outputs": [
        {
          "data": {
            "text/html": [
              "<div>\n",
              "<style scoped>\n",
              "    .dataframe tbody tr th:only-of-type {\n",
              "        vertical-align: middle;\n",
              "    }\n",
              "\n",
              "    .dataframe tbody tr th {\n",
              "        vertical-align: top;\n",
              "    }\n",
              "\n",
              "    .dataframe thead th {\n",
              "        text-align: right;\n",
              "    }\n",
              "</style>\n",
              "<table border=\"1\" class=\"dataframe\">\n",
              "  <thead>\n",
              "    <tr style=\"text-align: right;\">\n",
              "      <th></th>\n",
              "      <th>noun_category</th>\n",
              "      <th>context</th>\n",
              "      <th>prediction</th>\n",
              "      <th>probability</th>\n",
              "    </tr>\n",
              "  </thead>\n",
              "  <tbody>\n",
              "    <tr>\n",
              "      <th>0</th>\n",
              "      <td>Fem</td>\n",
              "      <td>Fem</td>\n",
              "      <td>Fem</td>\n",
              "      <td>0.181080</td>\n",
              "    </tr>\n",
              "    <tr>\n",
              "      <th>1</th>\n",
              "      <td>Fem</td>\n",
              "      <td>Fem</td>\n",
              "      <td>Fem</td>\n",
              "      <td>0.181080</td>\n",
              "    </tr>\n",
              "    <tr>\n",
              "      <th>2</th>\n",
              "      <td>Fem</td>\n",
              "      <td>Fem</td>\n",
              "      <td>Fem</td>\n",
              "      <td>0.001522</td>\n",
              "    </tr>\n",
              "    <tr>\n",
              "      <th>3</th>\n",
              "      <td>Fem</td>\n",
              "      <td>Fem</td>\n",
              "      <td>Fem</td>\n",
              "      <td>0.004643</td>\n",
              "    </tr>\n",
              "    <tr>\n",
              "      <th>4</th>\n",
              "      <td>Fem</td>\n",
              "      <td>Fem</td>\n",
              "      <td>Fem</td>\n",
              "      <td>0.181080</td>\n",
              "    </tr>\n",
              "    <tr>\n",
              "      <th>...</th>\n",
              "      <td>...</td>\n",
              "      <td>...</td>\n",
              "      <td>...</td>\n",
              "      <td>...</td>\n",
              "    </tr>\n",
              "    <tr>\n",
              "      <th>600060</th>\n",
              "      <td>75</td>\n",
              "      <td>Amb</td>\n",
              "      <td>Fem</td>\n",
              "      <td>0.006151</td>\n",
              "    </tr>\n",
              "    <tr>\n",
              "      <th>600061</th>\n",
              "      <td>75</td>\n",
              "      <td>Amb</td>\n",
              "      <td>Fem</td>\n",
              "      <td>0.011686</td>\n",
              "    </tr>\n",
              "    <tr>\n",
              "      <th>600062</th>\n",
              "      <td>75</td>\n",
              "      <td>Amb</td>\n",
              "      <td>Fem</td>\n",
              "      <td>0.233724</td>\n",
              "    </tr>\n",
              "    <tr>\n",
              "      <th>600063</th>\n",
              "      <td>75</td>\n",
              "      <td>Amb</td>\n",
              "      <td>Fem</td>\n",
              "      <td>0.233724</td>\n",
              "    </tr>\n",
              "    <tr>\n",
              "      <th>600064</th>\n",
              "      <td>75</td>\n",
              "      <td>Amb</td>\n",
              "      <td>Fem</td>\n",
              "      <td>0.019477</td>\n",
              "    </tr>\n",
              "  </tbody>\n",
              "</table>\n",
              "<p>600065 rows × 4 columns</p>\n",
              "</div>"
            ],
            "text/plain": [
              "       noun_category context prediction  probability\n",
              "0                Fem     Fem        Fem     0.181080\n",
              "1                Fem     Fem        Fem     0.181080\n",
              "2                Fem     Fem        Fem     0.001522\n",
              "3                Fem     Fem        Fem     0.004643\n",
              "4                Fem     Fem        Fem     0.181080\n",
              "...              ...     ...        ...          ...\n",
              "600060            75     Amb        Fem     0.006151\n",
              "600061            75     Amb        Fem     0.011686\n",
              "600062            75     Amb        Fem     0.233724\n",
              "600063            75     Amb        Fem     0.233724\n",
              "600064            75     Amb        Fem     0.019477\n",
              "\n",
              "[600065 rows x 4 columns]"
            ]
          },
          "execution_count": 27,
          "metadata": {},
          "output_type": "execute_result"
        }
      ],
      "source": [
        "df = pd.read_json(\"results/exp_epicenes/df_raw_results.json\")\n",
        "df"
      ]
    },
    {
      "cell_type": "code",
      "execution_count": null,
      "metadata": {},
      "outputs": [
        {
          "data": {
            "text/html": [
              "<div>\n",
              "<style scoped>\n",
              "    .dataframe tbody tr th:only-of-type {\n",
              "        vertical-align: middle;\n",
              "    }\n",
              "\n",
              "    .dataframe tbody tr th {\n",
              "        vertical-align: top;\n",
              "    }\n",
              "\n",
              "    .dataframe thead th {\n",
              "        text-align: right;\n",
              "    }\n",
              "</style>\n",
              "<table border=\"1\" class=\"dataframe\">\n",
              "  <thead>\n",
              "    <tr style=\"text-align: right;\">\n",
              "      <th></th>\n",
              "      <th></th>\n",
              "      <th>feminine</th>\n",
              "      <th>masculine</th>\n",
              "    </tr>\n",
              "    <tr>\n",
              "      <th>noun_category</th>\n",
              "      <th>context</th>\n",
              "      <th></th>\n",
              "      <th></th>\n",
              "    </tr>\n",
              "  </thead>\n",
              "  <tbody>\n",
              "    <tr>\n",
              "      <th rowspan=\"3\" valign=\"top\">25% feminine</th>\n",
              "      <th>ambiguous</th>\n",
              "      <td>41.78 ±0.48</td>\n",
              "      <td>58.22 ±0.48</td>\n",
              "    </tr>\n",
              "    <tr>\n",
              "      <th>feminine</th>\n",
              "      <td>99.95 ±0.02</td>\n",
              "      <td>0.05 ±0.02</td>\n",
              "    </tr>\n",
              "    <tr>\n",
              "      <th>masculine</th>\n",
              "      <td>0.0 ±0.0</td>\n",
              "      <td>100.0 ±0.0</td>\n",
              "    </tr>\n",
              "    <tr>\n",
              "      <th rowspan=\"3\" valign=\"top\">50% feminine</th>\n",
              "      <th>ambiguous</th>\n",
              "      <td>51.2 ±0.49</td>\n",
              "      <td>48.8 ±0.49</td>\n",
              "    </tr>\n",
              "    <tr>\n",
              "      <th>feminine</th>\n",
              "      <td>99.99 ±0.01</td>\n",
              "      <td>0.01 ±0.01</td>\n",
              "    </tr>\n",
              "    <tr>\n",
              "      <th>masculine</th>\n",
              "      <td>0.01 ±0.01</td>\n",
              "      <td>99.99 ±0.01</td>\n",
              "    </tr>\n",
              "    <tr>\n",
              "      <th rowspan=\"3\" valign=\"top\">75% feminine</th>\n",
              "      <th>ambiguous</th>\n",
              "      <td>60.93 ±0.48</td>\n",
              "      <td>39.07 ±0.48</td>\n",
              "    </tr>\n",
              "    <tr>\n",
              "      <th>feminine</th>\n",
              "      <td>100.0 ±0.0</td>\n",
              "      <td>0.0 ±0.0</td>\n",
              "    </tr>\n",
              "    <tr>\n",
              "      <th>masculine</th>\n",
              "      <td>0.03 ±0.02</td>\n",
              "      <td>99.97 ±0.02</td>\n",
              "    </tr>\n",
              "    <tr>\n",
              "      <th rowspan=\"3\" valign=\"top\">feminine</th>\n",
              "      <th>ambiguous</th>\n",
              "      <td>68.2 ±0.46</td>\n",
              "      <td>31.8 ±0.46</td>\n",
              "    </tr>\n",
              "    <tr>\n",
              "      <th>feminine</th>\n",
              "      <td>100.0 ±0.0</td>\n",
              "      <td>0.0 ±0.0</td>\n",
              "    </tr>\n",
              "    <tr>\n",
              "      <th>masculine</th>\n",
              "      <td>0.64 ±0.08</td>\n",
              "      <td>99.36 ±0.08</td>\n",
              "    </tr>\n",
              "    <tr>\n",
              "      <th rowspan=\"3\" valign=\"top\">masculine</th>\n",
              "      <th>ambiguous</th>\n",
              "      <td>30.94 ±0.45</td>\n",
              "      <td>69.06 ±0.45</td>\n",
              "    </tr>\n",
              "    <tr>\n",
              "      <th>feminine</th>\n",
              "      <td>98.89 ±0.1</td>\n",
              "      <td>1.11 ±0.1</td>\n",
              "    </tr>\n",
              "    <tr>\n",
              "      <th>masculine</th>\n",
              "      <td>0.0 ±0.0</td>\n",
              "      <td>100.0 ±0.0</td>\n",
              "    </tr>\n",
              "  </tbody>\n",
              "</table>\n",
              "</div>"
            ],
            "text/plain": [
              "                            feminine    masculine\n",
              "noun_category context                            \n",
              "25% feminine  ambiguous  41.78 ±0.48  58.22 ±0.48\n",
              "              feminine   99.95 ±0.02   0.05 ±0.02\n",
              "              masculine     0.0 ±0.0   100.0 ±0.0\n",
              "50% feminine  ambiguous   51.2 ±0.49   48.8 ±0.49\n",
              "              feminine   99.99 ±0.01   0.01 ±0.01\n",
              "              masculine   0.01 ±0.01  99.99 ±0.01\n",
              "75% feminine  ambiguous  60.93 ±0.48  39.07 ±0.48\n",
              "              feminine    100.0 ±0.0     0.0 ±0.0\n",
              "              masculine   0.03 ±0.02  99.97 ±0.02\n",
              "feminine      ambiguous   68.2 ±0.46   31.8 ±0.46\n",
              "              feminine    100.0 ±0.0     0.0 ±0.0\n",
              "              masculine   0.64 ±0.08  99.36 ±0.08\n",
              "masculine     ambiguous  30.94 ±0.45  69.06 ±0.45\n",
              "              feminine    98.89 ±0.1    1.11 ±0.1\n",
              "              masculine     0.0 ±0.0   100.0 ±0.0"
            ]
          },
          "execution_count": 28,
          "metadata": {},
          "output_type": "execute_result"
        }
      ],
      "source": [
        "df['feminine'] = df.prediction == 'Fem'\n",
        "df['masculine'] = df.prediction == 'Masc'\n",
        "df['context'] = df.context.replace({'Fem': 'feminine', 'Masc': 'masculine', 'Amb': 'ambiguous'})\n",
        "df['noun_category'] = df.noun_category.replace({'Fem': 'feminine', 'Masc': 'masculine', \n",
        "                                          '25': '25% feminine', '50': '50% feminine', '75': '75% feminine'})\n",
        "\n",
        "mean = pd.DataFrame({'feminine': df.groupby(['noun_category','context'])['feminine'].mean()*100,\n",
        "              'masculine': df.groupby(['noun_category','context'])['masculine'].mean()*100})\n",
        "ci = pd.DataFrame({'feminine': df.groupby(['noun_category','context'])['feminine'].sem()*1.96*100,\n",
        "              'masculine': df.groupby(['noun_category','context'])['masculine'].sem()*1.96*100})\n",
        "\n",
        "res = mean.combine(ci, lambda m, i: round(m, 2).astype('str') + ' ±' + round(i, 2).astype('str'))\n",
        "#res.to_latex('results/exp2/epicenes.txt')\n",
        "res\n"
      ]
    },
    {
      "cell_type": "markdown",
      "metadata": {},
      "source": [
        "### Show results as a table"
      ]
    },
    {
      "cell_type": "code",
      "execution_count": null,
      "metadata": {},
      "outputs": [
        {
          "data": {
            "text/html": [
              "<div>\n",
              "<style scoped>\n",
              "    .dataframe tbody tr th:only-of-type {\n",
              "        vertical-align: middle;\n",
              "    }\n",
              "\n",
              "    .dataframe tbody tr th {\n",
              "        vertical-align: top;\n",
              "    }\n",
              "\n",
              "    .dataframe thead th {\n",
              "        text-align: right;\n",
              "    }\n",
              "</style>\n",
              "<table border=\"1\" class=\"dataframe\">\n",
              "  <thead>\n",
              "    <tr style=\"text-align: right;\">\n",
              "      <th></th>\n",
              "      <th>noun_category</th>\n",
              "      <th>context</th>\n",
              "      <th>prediction</th>\n",
              "      <th>probability</th>\n",
              "      <th>feminine</th>\n",
              "      <th>masculine</th>\n",
              "    </tr>\n",
              "  </thead>\n",
              "  <tbody>\n",
              "    <tr>\n",
              "      <th>0</th>\n",
              "      <td>100</td>\n",
              "      <td>feminine</td>\n",
              "      <td>Fem</td>\n",
              "      <td>0.181080</td>\n",
              "      <td>True</td>\n",
              "      <td>False</td>\n",
              "    </tr>\n",
              "    <tr>\n",
              "      <th>1</th>\n",
              "      <td>100</td>\n",
              "      <td>feminine</td>\n",
              "      <td>Fem</td>\n",
              "      <td>0.181080</td>\n",
              "      <td>True</td>\n",
              "      <td>False</td>\n",
              "    </tr>\n",
              "    <tr>\n",
              "      <th>2</th>\n",
              "      <td>100</td>\n",
              "      <td>feminine</td>\n",
              "      <td>Fem</td>\n",
              "      <td>0.001522</td>\n",
              "      <td>True</td>\n",
              "      <td>False</td>\n",
              "    </tr>\n",
              "    <tr>\n",
              "      <th>3</th>\n",
              "      <td>100</td>\n",
              "      <td>feminine</td>\n",
              "      <td>Fem</td>\n",
              "      <td>0.004643</td>\n",
              "      <td>True</td>\n",
              "      <td>False</td>\n",
              "    </tr>\n",
              "    <tr>\n",
              "      <th>4</th>\n",
              "      <td>100</td>\n",
              "      <td>feminine</td>\n",
              "      <td>Fem</td>\n",
              "      <td>0.181080</td>\n",
              "      <td>True</td>\n",
              "      <td>False</td>\n",
              "    </tr>\n",
              "    <tr>\n",
              "      <th>...</th>\n",
              "      <td>...</td>\n",
              "      <td>...</td>\n",
              "      <td>...</td>\n",
              "      <td>...</td>\n",
              "      <td>...</td>\n",
              "      <td>...</td>\n",
              "    </tr>\n",
              "    <tr>\n",
              "      <th>600060</th>\n",
              "      <td>75</td>\n",
              "      <td>ambiguous</td>\n",
              "      <td>Fem</td>\n",
              "      <td>0.006151</td>\n",
              "      <td>True</td>\n",
              "      <td>False</td>\n",
              "    </tr>\n",
              "    <tr>\n",
              "      <th>600061</th>\n",
              "      <td>75</td>\n",
              "      <td>ambiguous</td>\n",
              "      <td>Fem</td>\n",
              "      <td>0.011686</td>\n",
              "      <td>True</td>\n",
              "      <td>False</td>\n",
              "    </tr>\n",
              "    <tr>\n",
              "      <th>600062</th>\n",
              "      <td>75</td>\n",
              "      <td>ambiguous</td>\n",
              "      <td>Fem</td>\n",
              "      <td>0.233724</td>\n",
              "      <td>True</td>\n",
              "      <td>False</td>\n",
              "    </tr>\n",
              "    <tr>\n",
              "      <th>600063</th>\n",
              "      <td>75</td>\n",
              "      <td>ambiguous</td>\n",
              "      <td>Fem</td>\n",
              "      <td>0.233724</td>\n",
              "      <td>True</td>\n",
              "      <td>False</td>\n",
              "    </tr>\n",
              "    <tr>\n",
              "      <th>600064</th>\n",
              "      <td>75</td>\n",
              "      <td>ambiguous</td>\n",
              "      <td>Fem</td>\n",
              "      <td>0.019477</td>\n",
              "      <td>True</td>\n",
              "      <td>False</td>\n",
              "    </tr>\n",
              "  </tbody>\n",
              "</table>\n",
              "<p>600065 rows × 6 columns</p>\n",
              "</div>"
            ],
            "text/plain": [
              "        noun_category    context prediction  probability  feminine  masculine\n",
              "0                 100   feminine        Fem     0.181080      True      False\n",
              "1                 100   feminine        Fem     0.181080      True      False\n",
              "2                 100   feminine        Fem     0.001522      True      False\n",
              "3                 100   feminine        Fem     0.004643      True      False\n",
              "4                 100   feminine        Fem     0.181080      True      False\n",
              "...               ...        ...        ...          ...       ...        ...\n",
              "600060             75  ambiguous        Fem     0.006151      True      False\n",
              "600061             75  ambiguous        Fem     0.011686      True      False\n",
              "600062             75  ambiguous        Fem     0.233724      True      False\n",
              "600063             75  ambiguous        Fem     0.233724      True      False\n",
              "600064             75  ambiguous        Fem     0.019477      True      False\n",
              "\n",
              "[600065 rows x 6 columns]"
            ]
          },
          "execution_count": 29,
          "metadata": {},
          "output_type": "execute_result"
        }
      ],
      "source": [
        "df['feminine'] = df.prediction == 'Fem'\n",
        "df['masculine'] = df.prediction == 'Masc'\n",
        "df['context'] = df.context.replace({'Fem': 'feminine', 'Masc': 'masculine', 'Amb': 'ambiguous'})\n",
        "df['noun_category'] = df.noun_category.replace({'feminine': 100, 'masculine': 0, '25% feminine': 25, '50% feminine': 50, '75% feminine': 75})\n",
        "df\n"
      ]
    },
    {
      "cell_type": "markdown",
      "metadata": {},
      "source": [
        "### Show results as a line graph"
      ]
    },
    {
      "cell_type": "code",
      "execution_count": null,
      "metadata": {},
      "outputs": [
        {
          "data": {
            "text/plain": [
              "[Text(0.5, 0, 'Percentage of feminine occurrences in the training data'),\n",
              " Text(0, 0.5, 'Percentage of feminine probe preditions')]"
            ]
          },
          "execution_count": 35,
          "metadata": {},
          "output_type": "execute_result"
        },
        {
          "data": {
            "image/png": "[encoded data removed]",
            "text/plain": [
              "<Figure size 640x480 with 1 Axes>"
            ]
          },
          "metadata": {},
          "output_type": "display_data"
        }
      ],
      "source": [
        "sns.set(style=\"darkgrid\")\n",
        "g = sns.lineplot(data=df, \n",
        "            x='noun_category', \n",
        "            y='feminine', \n",
        "            hue='context',\n",
        "            marker='o', \n",
        "            dashes=False,\n",
        "            estimator='mean')\n",
        "\n",
        "g.set_xticks([0, 25, 50, 75, 100])\n",
        "g.set_xticklabels(['0','25','50','75','100'])\n",
        "g.set_yticks([0, .25, .50, .75, 1])\n",
        "g.set_yticklabels(['0','25','50','75','100'])\n",
        "g.set(xlabel='Percentage of feminine occurrences in the training data',\n",
        "      ylabel='Percentage of feminine probe preditions')"
      ]
    },
    {
      "cell_type": "markdown",
      "metadata": {},
      "source": [
        "### Testing an alternative line graph"
      ]
    },
    {
      "cell_type": "code",
      "execution_count": null,
      "metadata": {},
      "outputs": [
        {
          "data": {
            "text/plain": [
              "<matplotlib.legend.Legend at 0x7f215155ff10>"
            ]
          },
          "execution_count": 33,
          "metadata": {},
          "output_type": "execute_result"
        },
        {
          "data": {
            "image/png": "[encoded data removed]",
            "text/plain": [
              "<Figure size 640x480 with 2 Axes>"
            ]
          },
          "metadata": {},
          "output_type": "display_data"
        }
      ],
      "source": [
        "import matplotlib.pyplot as plt\n",
        "#sns.lineplot(data=df.column1, color=\"g\")\n",
        "#ax2 = plt.twinx()\n",
        "#sns.lineplot(data=df.column2, color=\"b\", ax=ax2)\n",
        "\n",
        "sns.set(style=\"darkgrid\")\n",
        "sns.lineplot(data=df, \n",
        "            x='noun_category', \n",
        "            y='feminine', \n",
        "            errorbar=None,\n",
        "            hue='context', \n",
        "            linewidth=2.5,\n",
        "            style='context',\n",
        "            dashes=False,\n",
        "            estimator='mean',\n",
        "            palette='dark:#5A9_r').set(xlabel='Percentage of feminine occurrences in the training data', \n",
        "                                       ylabel='Percentage of feminine probe preditions')\n",
        "plt.legend(loc='upper right', \n",
        "           bbox_to_anchor=(-0.15, 1), \n",
        "           title='Feminine words', \n",
        "           labels=['in a feminine context', 'in a masculine context', 'in an ambiguous context'])\n",
        "\n",
        "plt.yticks([0, .25, .50, .75, 1], ['0.00','0.25','0.50','0.75','1.00'])\n",
        "ax2 = plt.twinx()\n",
        "\n",
        "sns.lineplot(data=df, \n",
        "            x='noun_category', \n",
        "            y='masculine', \n",
        "            errorbar=None,\n",
        "            hue='context', \n",
        "            style='context', \n",
        "            dashes=False,\n",
        "            linestyle='dotted',\n",
        "            #alpha=0.5,\n",
        "            linewidth=2.5,\n",
        "            estimator='mean',\n",
        "            palette='YlOrBr',\n",
        "            ax=ax2).set(ylabel='Percentage of masculine probe preditions')\n",
        "\n",
        "plt.xticks([0, 25, 50, 75, 100], ['0','25','50','75','100'])\n",
        "plt.yticks([0, .25, .50, .75, 1], ['0.00','0.25','0.50','0.75','1.00'])\n",
        "\n",
        "plt.legend(loc='upper left', \n",
        "           bbox_to_anchor=(1.15, 1), \n",
        "           title='Masculine words', \n",
        "           labels=['in a feminine context', 'in a masculine context', 'in an ambiguous context'])\n"
      ]
    },
    {
      "cell_type": "code",
      "execution_count": null,
      "metadata": {},
      "outputs": [],
      "source": []
    }
  ],
  "metadata": {
    "colab": {
      "provenance": []
    },
    "gpuClass": "standard",
    "kernelspec": {
      "display_name": ".venv",
      "language": "python",
      "name": "python3"
    },
    "language_info": {
      "codemirror_mode": {
        "name": "ipython",
        "version": 3
      },
      "file_extension": ".py",
      "mimetype": "text/x-python",
      "name": "python",
      "nbconvert_exporter": "python",
      "pygments_lexer": "ipython3",
      "version": "3.8.8"
    },
    "vscode": {
      "interpreter": {
        "hash": "2b961adf93988a8634fdc2b6879cad8a348a5f3df5f57a68ac1fd09f1dd31685"
      }
    }
  },
  "nbformat": 4,
  "nbformat_minor": 0
}
